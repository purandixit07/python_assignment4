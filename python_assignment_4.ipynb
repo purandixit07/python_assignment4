{
 "cells": [
  {
   "cell_type": "code",
   "execution_count": 37,
   "id": "5ff2ba29",
   "metadata": {},
   "outputs": [
    {
     "name": "stdout",
     "output_type": "stream",
     "text": [
      "enter length of 1st side 2\n",
      "enter length of 2nd side 3\n",
      "enter length of 3rd side 4\n"
     ]
    }
   ],
   "source": [
    "class area:\n",
    "    def test(self,s1,s2,s3):\n",
    "        self.side1 = s1\n",
    "        self.side2 = s2\n",
    "        self.side3 = s3\n",
    "    s1 = int(input(\"enter length of 1st side \"))\n",
    "    s2 = int(input(\"enter length of 2nd side \"))\n",
    "    s3 = int(input(\"enter length of 3rd side \"))\n",
    "        \n",
    "\n",
    "\n",
    "        "
   ]
  },
  {
   "cell_type": "code",
   "execution_count": 6,
   "id": "8590736c",
   "metadata": {},
   "outputs": [],
   "source": [
    "p = a(3,4,5)"
   ]
  },
  {
   "cell_type": "code",
   "execution_count": 7,
   "id": "c3262dc2",
   "metadata": {},
   "outputs": [
    {
     "data": {
      "text/plain": [
       "3"
      ]
     },
     "execution_count": 7,
     "metadata": {},
     "output_type": "execute_result"
    }
   ],
   "source": [
    "p.side1"
   ]
  },
  {
   "cell_type": "code",
   "execution_count": 92,
   "id": "114de3c3",
   "metadata": {},
   "outputs": [
    {
     "name": "stdout",
     "output_type": "stream",
     "text": [
      "enter length of 1st side 3\n",
      "enter length of 2nd side 4\n",
      "enter length of 3rd side 5\n"
     ]
    },
    {
     "data": {
      "text/plain": [
       "6.0"
      ]
     },
     "execution_count": 92,
     "metadata": {},
     "output_type": "execute_result"
    }
   ],
   "source": [
    "class area:\n",
    "    def __init__(self,s1,s2,s3):\n",
    "        self.side1 = s1\n",
    "        self.side2 = s2\n",
    "        self.side3 = s3\n",
    "s1 = int(input(\"enter length of 1st side \"))\n",
    "s2 = int(input(\"enter length of 2nd side \"))\n",
    "s3 = int(input(\"enter length of 3rd side \"))\n",
    "        \n",
    "class formula(area):\n",
    "    def test2(self):\n",
    "        s = (self.side1+self.side2+self.side3)/2\n",
    "        return (s*(s-s1)*(s-s2)*(s-s3))** 0.5 \n",
    "        \n",
    "ar1 = formula(s1,s2,s3)\n",
    "ar1.test2()\n",
    "\n",
    "\n"
   ]
  },
  {
   "cell_type": "code",
   "execution_count": 95,
   "id": "c2567305",
   "metadata": {},
   "outputs": [
    {
     "name": "stdout",
     "output_type": "stream",
     "text": [
      "enter length of 1st side 6\n",
      "enter length of 2nd side 8\n",
      "enter length of 3rd side 10\n"
     ]
    },
    {
     "data": {
      "text/plain": [
       "24.0"
      ]
     },
     "execution_count": 95,
     "metadata": {},
     "output_type": "execute_result"
    }
   ],
   "source": [
    "class area:\n",
    "    def __init__(self,s1,s2,s3):\n",
    "        self.side1 = s1\n",
    "        self.side2 = s2\n",
    "        self.side3 = s3\n",
    "s1 = int(input(\"enter length of 1st side \"))\n",
    "s2 = int(input(\"enter length of 2nd side \"))\n",
    "s3 = int(input(\"enter length of 3rd side \"))\n",
    "        \n",
    "class formula(area):\n",
    "    def test2(self):\n",
    "        s = (s1+s2+s3)/2\n",
    "        ar = (s*(s-s1)*(s-s2)*(s-s3))** 0.5\n",
    "        return ar\n",
    "        \n",
    "ar1 = formula(s1,s2,s3)\n",
    "ar1.test2()"
   ]
  },
  {
   "cell_type": "code",
   "execution_count": 96,
   "id": "2ee99880",
   "metadata": {},
   "outputs": [],
   "source": [
    "#filter_long_words"
   ]
  },
  {
   "cell_type": "code",
   "execution_count": 108,
   "id": "10f223b4",
   "metadata": {},
   "outputs": [],
   "source": [
    "def filter_long_words(b,n):\n",
    "    a = []\n",
    "    for i in b:\n",
    "        if type(i)==str:\n",
    "            if len(i) >n:\n",
    "                a.append(i)\n",
    "    return a\n",
    "        \n",
    "    \n",
    "    \n",
    "    "
   ]
  },
  {
   "cell_type": "code",
   "execution_count": 122,
   "id": "f7929418",
   "metadata": {},
   "outputs": [
    {
     "data": {
      "text/plain": [
       "['ssfdfsa', 'sffryurewq', 'ffdfdfd', 'sdssd', 'sfdgfgdfa']"
      ]
     },
     "execution_count": 122,
     "metadata": {},
     "output_type": "execute_result"
    }
   ],
   "source": [
    "filter_long_words([\"ssfdfsa\",\"sffryurewq\",\"sdds\",\"ffdfdfd\",\"sdssd\",\"sfdgfgdfa\",\"sff\",6756554],4)\n"
   ]
  },
  {
   "cell_type": "code",
   "execution_count": 118,
   "id": "bcdf3f93",
   "metadata": {},
   "outputs": [],
   "source": [
    "l = [\"ssfdfsa\",\"sffryurewq\",\"sdds\",\"ffdfdfd\",\"sdssd\",\"sfdgfgdfa\",\"sff\",6756554]"
   ]
  },
  {
   "cell_type": "code",
   "execution_count": 121,
   "id": "42aec63e",
   "metadata": {},
   "outputs": [
    {
     "data": {
      "text/plain": [
       "['ssfdfsa', 'sffryurewq', 'ffdfdfd', 'sdssd', 'sfdgfgdfa']"
      ]
     },
     "execution_count": 121,
     "metadata": {},
     "output_type": "execute_result"
    }
   ],
   "source": [
    "list(filter(lambda a,n=4: True if type(a)==str and len(a)>n else False,l))"
   ]
  },
  {
   "cell_type": "code",
   "execution_count": 144,
   "id": "4a8b5b63",
   "metadata": {},
   "outputs": [],
   "source": [
    "def filter_long_words(a,n=3):\n",
    "        if type(a)==str:\n",
    "            if len(a) >n:\n",
    "                return True\n",
    "            else:\n",
    "                return False\n",
    "    "
   ]
  },
  {
   "cell_type": "code",
   "execution_count": 145,
   "id": "0478bd3f",
   "metadata": {},
   "outputs": [],
   "source": [
    "b=[\"ssfdfsa\",\"sffryurewq\",\"sdds\",\"ffdfdfd\",\"sdssd\",\"sfdgfgdfa\",\"sff\",\"re\",6756554]"
   ]
  },
  {
   "cell_type": "code",
   "execution_count": 146,
   "id": "9126de55",
   "metadata": {},
   "outputs": [
    {
     "data": {
      "text/plain": [
       "['ssfdfsa', 'sffryurewq', 'sdds', 'ffdfdfd', 'sdssd', 'sfdgfgdfa']"
      ]
     },
     "execution_count": 146,
     "metadata": {},
     "output_type": "execute_result"
    }
   ],
   "source": [
    "list(filter(filter_long_words,b))"
   ]
  },
  {
   "cell_type": "code",
   "execution_count": 147,
   "id": "2a5a1f4d",
   "metadata": {},
   "outputs": [],
   "source": [
    "def func(n):\n",
    "    if type(n)==str:\n",
    "        l=len(n)\n",
    "        return l"
   ]
  },
  {
   "cell_type": "code",
   "execution_count": 148,
   "id": "e579de2d",
   "metadata": {},
   "outputs": [
    {
     "data": {
      "text/plain": [
       "[7, 10, 4, 7, 5, 9, 3, 2, None]"
      ]
     },
     "execution_count": 148,
     "metadata": {},
     "output_type": "execute_result"
    }
   ],
   "source": [
    "list(map(func,b))"
   ]
  },
  {
   "cell_type": "code",
   "execution_count": 174,
   "id": "fd6bfbac",
   "metadata": {},
   "outputs": [],
   "source": [
    "def func1(n):\n",
    "    if n == 'a' or n == 'e' or n == 'i' or n == 'o' or n == 'u':\n",
    "        return True\n",
    "    else:\n",
    "        return False"
   ]
  },
  {
   "cell_type": "code",
   "execution_count": 180,
   "id": "1ce47770",
   "metadata": {},
   "outputs": [
    {
     "data": {
      "text/plain": [
       "False"
      ]
     },
     "execution_count": 180,
     "metadata": {},
     "output_type": "execute_result"
    }
   ],
   "source": [
    "func1('j')"
   ]
  },
  {
   "cell_type": "code",
   "execution_count": 187,
   "id": "7254727d",
   "metadata": {},
   "outputs": [],
   "source": [
    "l = ['a','e','i','o','u']\n",
    "def func2(n):\n",
    "    if n in l:\n",
    "        return True\n",
    "    else:\n",
    "        return False\n"
   ]
  },
  {
   "cell_type": "code",
   "execution_count": 195,
   "id": "75081c5c",
   "metadata": {},
   "outputs": [
    {
     "data": {
      "text/plain": [
       "False"
      ]
     },
     "execution_count": 195,
     "metadata": {},
     "output_type": "execute_result"
    }
   ],
   "source": [
    "func2('l')"
   ]
  },
  {
   "cell_type": "code",
   "execution_count": 182,
   "id": "09fee813",
   "metadata": {},
   "outputs": [],
   "source": [
    "c1=lambda n: True if n == 'a' or n == 'e' or n == 'i' or n == 'o' or n == 'u' else False"
   ]
  },
  {
   "cell_type": "code",
   "execution_count": 186,
   "id": "f427c0a4",
   "metadata": {},
   "outputs": [
    {
     "data": {
      "text/plain": [
       "False"
      ]
     },
     "execution_count": 186,
     "metadata": {},
     "output_type": "execute_result"
    }
   ],
   "source": [
    "c1('c')"
   ]
  },
  {
   "cell_type": "code",
   "execution_count": null,
   "id": "90a0b192",
   "metadata": {},
   "outputs": [],
   "source": []
  }
 ],
 "metadata": {
  "kernelspec": {
   "display_name": "Python 3",
   "language": "python",
   "name": "python3"
  },
  "language_info": {
   "codemirror_mode": {
    "name": "ipython",
    "version": 3
   },
   "file_extension": ".py",
   "mimetype": "text/x-python",
   "name": "python",
   "nbconvert_exporter": "python",
   "pygments_lexer": "ipython3",
   "version": "3.8.8"
  }
 },
 "nbformat": 4,
 "nbformat_minor": 5
}
